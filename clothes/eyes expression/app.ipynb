{
 "cells": [
  {
   "cell_type": "code",
   "execution_count": 1,
   "metadata": {},
   "outputs": [
    {
     "name": "stdout",
     "output_type": "stream",
     "text": [
      "Requirement already satisfied: roboflow in c:\\users\\ayush\\appdata\\local\\programs\\python\\python39\\lib\\site-packages (1.1.7)\n",
      "Requirement already satisfied: certifi==2022.12.7 in c:\\users\\ayush\\appdata\\local\\programs\\python\\python39\\lib\\site-packages (from roboflow) (2022.12.7)\n",
      "Requirement already satisfied: chardet==4.0.0 in c:\\users\\ayush\\appdata\\local\\programs\\python\\python39\\lib\\site-packages (from roboflow) (4.0.0)\n",
      "Requirement already satisfied: cycler==0.10.0 in c:\\users\\ayush\\appdata\\local\\programs\\python\\python39\\lib\\site-packages (from roboflow) (0.10.0)\n",
      "Requirement already satisfied: idna==2.10 in c:\\users\\ayush\\appdata\\local\\programs\\python\\python39\\lib\\site-packages (from roboflow) (2.10)\n",
      "Requirement already satisfied: kiwisolver>=1.3.1 in c:\\users\\ayush\\appdata\\local\\programs\\python\\python39\\lib\\site-packages (from roboflow) (1.4.5)\n",
      "Requirement already satisfied: matplotlib in c:\\users\\ayush\\appdata\\local\\programs\\python\\python39\\lib\\site-packages (from roboflow) (3.8.0)\n",
      "Requirement already satisfied: numpy>=1.18.5 in c:\\users\\ayush\\appdata\\local\\programs\\python\\python39\\lib\\site-packages (from roboflow) (1.23.5)\n",
      "Requirement already satisfied: opencv-python-headless==4.8.0.74 in c:\\users\\ayush\\appdata\\local\\programs\\python\\python39\\lib\\site-packages (from roboflow) (4.8.0.74)\n",
      "Requirement already satisfied: Pillow>=7.1.2 in c:\\users\\ayush\\appdata\\local\\programs\\python\\python39\\lib\\site-packages (from roboflow) (9.5.0)\n",
      "Requirement already satisfied: pyparsing==2.4.7 in c:\\users\\ayush\\appdata\\local\\programs\\python\\python39\\lib\\site-packages (from roboflow) (2.4.7)\n",
      "Requirement already satisfied: python-dateutil in c:\\users\\ayush\\appdata\\roaming\\python\\python39\\site-packages (from roboflow) (2.8.2)\n",
      "Requirement already satisfied: python-dotenv in c:\\users\\ayush\\appdata\\local\\programs\\python\\python39\\lib\\site-packages (from roboflow) (1.0.0)\n",
      "Requirement already satisfied: requests in c:\\users\\ayush\\appdata\\local\\programs\\python\\python39\\lib\\site-packages (from roboflow) (2.31.0)\n",
      "Requirement already satisfied: six in c:\\users\\ayush\\appdata\\roaming\\python\\python39\\site-packages (from roboflow) (1.16.0)\n",
      "Requirement already satisfied: supervision in c:\\users\\ayush\\appdata\\local\\programs\\python\\python39\\lib\\site-packages (from roboflow) (0.15.0)\n",
      "Requirement already satisfied: urllib3>=1.26.6 in c:\\users\\ayush\\appdata\\local\\programs\\python\\python39\\lib\\site-packages (from roboflow) (1.26.16)\n",
      "Requirement already satisfied: tqdm>=4.41.0 in c:\\users\\ayush\\appdata\\local\\programs\\python\\python39\\lib\\site-packages (from roboflow) (4.66.1)\n",
      "Requirement already satisfied: PyYAML>=5.3.1 in c:\\users\\ayush\\appdata\\local\\programs\\python\\python39\\lib\\site-packages (from roboflow) (6.0.1)\n",
      "Requirement already satisfied: requests-toolbelt in c:\\users\\ayush\\appdata\\roaming\\python\\python39\\site-packages (from roboflow) (1.0.0)\n",
      "Requirement already satisfied: colorama in c:\\users\\ayush\\appdata\\roaming\\python\\python39\\site-packages (from tqdm>=4.41.0->roboflow) (0.4.6)\n",
      "Requirement already satisfied: contourpy>=1.0.1 in c:\\users\\ayush\\appdata\\local\\programs\\python\\python39\\lib\\site-packages (from matplotlib->roboflow) (1.1.1)\n",
      "Requirement already satisfied: fonttools>=4.22.0 in c:\\users\\ayush\\appdata\\local\\programs\\python\\python39\\lib\\site-packages (from matplotlib->roboflow) (4.43.0)\n",
      "Requirement already satisfied: packaging>=20.0 in c:\\users\\ayush\\appdata\\local\\programs\\python\\python39\\lib\\site-packages (from matplotlib->roboflow) (23.1)\n",
      "Requirement already satisfied: importlib-resources>=3.2.0 in c:\\users\\ayush\\appdata\\local\\programs\\python\\python39\\lib\\site-packages (from matplotlib->roboflow) (6.1.0)\n",
      "Requirement already satisfied: charset-normalizer<4,>=2 in c:\\users\\ayush\\appdata\\local\\programs\\python\\python39\\lib\\site-packages (from requests->roboflow) (3.2.0)\n",
      "Requirement already satisfied: scipy<2.0.0,>=1.9.0 in c:\\users\\ayush\\appdata\\roaming\\python\\python39\\site-packages (from supervision->roboflow) (1.11.3)\n",
      "Requirement already satisfied: zipp>=3.1.0 in c:\\users\\ayush\\appdata\\roaming\\python\\python39\\site-packages (from importlib-resources>=3.2.0->matplotlib->roboflow) (3.17.0)\n"
     ]
    },
    {
     "name": "stderr",
     "output_type": "stream",
     "text": [
      "WARNING: Ignoring invalid distribution -ensorflow (c:\\users\\ayush\\appdata\\roaming\\python\\python39\\site-packages)\n",
      "WARNING: Ignoring invalid distribution -ensorflow (c:\\users\\ayush\\appdata\\roaming\\python\\python39\\site-packages)\n",
      "WARNING: Ignoring invalid distribution -ensorflow (c:\\users\\ayush\\appdata\\roaming\\python\\python39\\site-packages)\n",
      "WARNING: Ignoring invalid distribution -ensorflow (c:\\users\\ayush\\appdata\\roaming\\python\\python39\\site-packages)\n",
      "WARNING: Ignoring invalid distribution -ensorflow (c:\\users\\ayush\\appdata\\roaming\\python\\python39\\site-packages)\n",
      "WARNING: Ignoring invalid distribution -ensorflow (c:\\users\\ayush\\appdata\\roaming\\python\\python39\\site-packages)\n"
     ]
    },
    {
     "name": "stdout",
     "output_type": "stream",
     "text": [
      "loading Roboflow workspace...\n",
      "loading Roboflow project...\n",
      "Dependency ultralytics==8.0.134 is required but found version=8.0.20, to fix: `pip install ultralytics==8.0.134`\n"
     ]
    },
    {
     "name": "stderr",
     "output_type": "stream",
     "text": [
      "Downloading Dataset Version Zip in Eyes-Detection-1 to yolov8:: 100%|██████████| 1499/1499 [00:01<00:00, 901.78it/s] "
     ]
    },
    {
     "name": "stdout",
     "output_type": "stream",
     "text": [
      "\n"
     ]
    },
    {
     "name": "stderr",
     "output_type": "stream",
     "text": [
      "\n",
      "Extracting Dataset Version Zip to Eyes-Detection-1 in yolov8:: 100%|██████████| 104/104 [00:00<00:00, 1127.91it/s]\n"
     ]
    }
   ],
   "source": [
    "!pip install roboflow\n",
    "\n",
    "from roboflow import Roboflow\n",
    "rf = Roboflow(api_key=\"PRsUQ8s5DPMN9MS0SHVk\")\n",
    "project = rf.workspace(\"ayush-ranjeet-singh-mkhne\").project(\"eyes-detection-0ewk3\")\n",
    "dataset = project.version(1).download(\"yolov8\")\n"
   ]
  },
  {
   "cell_type": "code",
   "execution_count": 2,
   "metadata": {},
   "outputs": [
    {
     "name": "stdout",
     "output_type": "stream",
     "text": [
      "Thu Oct 19 22:23:21 2023       \n",
      "+-----------------------------------------------------------------------------+\n",
      "| NVIDIA-SMI 516.40       Driver Version: 516.40       CUDA Version: 11.7     |\n",
      "|-------------------------------+----------------------+----------------------+\n",
      "| GPU  Name            TCC/WDDM | Bus-Id        Disp.A | Volatile Uncorr. ECC |\n",
      "| Fan  Temp  Perf  Pwr:Usage/Cap|         Memory-Usage | GPU-Util  Compute M. |\n",
      "|                               |                      |               MIG M. |\n",
      "|===============================+======================+======================|\n",
      "|   0  NVIDIA GeForce ... WDDM  | 00000000:01:00.0 Off |                  N/A |\n",
      "| N/A   51C    P0     8W /  N/A |      0MiB /  4096MiB |      0%      Default |\n",
      "|                               |                      |                  N/A |\n",
      "+-------------------------------+----------------------+----------------------+\n",
      "                                                                               \n",
      "+-----------------------------------------------------------------------------+\n",
      "| Processes:                                                                  |\n",
      "|  GPU   GI   CI        PID   Type   Process name                  GPU Memory |\n",
      "|        ID   ID                                                   Usage      |\n",
      "|=============================================================================|\n",
      "|  No running processes found                                                 |\n",
      "+-----------------------------------------------------------------------------+\n"
     ]
    }
   ],
   "source": [
    "!nvidia-smi\n"
   ]
  },
  {
   "cell_type": "code",
   "execution_count": 3,
   "metadata": {},
   "outputs": [
    {
     "name": "stdout",
     "output_type": "stream",
     "text": [
      "c:\\Users\\ayush\\Downloads\\clothes\\eyes expression\n"
     ]
    }
   ],
   "source": [
    "import os\n",
    "HOME = os.getcwd()\n",
    "print(HOME)\n"
   ]
  },
  {
   "cell_type": "code",
   "execution_count": 4,
   "metadata": {},
   "outputs": [
    {
     "name": "stderr",
     "output_type": "stream",
     "text": [
      "Ultralytics YOLOv8.0.20  Python-3.9.2rc1 torch-2.0.1+cpu CPU\n",
      "Setup complete  (16 CPUs, 15.7 GB RAM, 173.0/475.7 GB disk)\n"
     ]
    }
   ],
   "source": [
    "!pip install ultralytics==8.0.20\n",
    "\n",
    "from IPython import display\n",
    "display.clear_output()\n",
    "\n",
    "import ultralytics\n",
    "ultralytics.checks()"
   ]
  },
  {
   "cell_type": "code",
   "execution_count": 5,
   "metadata": {},
   "outputs": [],
   "source": [
    "from ultralytics import YOLO\n",
    "\n",
    "from IPython.display import display, Image"
   ]
  },
  {
   "cell_type": "code",
   "execution_count": 8,
   "metadata": {},
   "outputs": [
    {
     "name": "stdout",
     "output_type": "stream",
     "text": [
      "[WinError 2] The system cannot find the file specified: 'c:\\\\Users\\\\ayush\\\\Downloads\\\\clothes\\\\eyes expression/datasets'\n",
      "c:\\Users\\ayush\\Downloads\\clothes\\eyes expression\n"
     ]
    },
    {
     "name": "stderr",
     "output_type": "stream",
     "text": [
      "The syntax of the command is incorrect.\n"
     ]
    },
    {
     "name": "stderr",
     "output_type": "stream",
     "text": [
      "WARNING: Ignoring invalid distribution -ensorflow (c:\\users\\ayush\\appdata\\roaming\\python\\python39\\site-packages)\n",
      "WARNING: Ignoring invalid distribution -ensorflow (c:\\users\\ayush\\appdata\\roaming\\python\\python39\\site-packages)\n",
      "WARNING: Ignoring invalid distribution -ensorflow (c:\\users\\ayush\\appdata\\roaming\\python\\python39\\site-packages)\n",
      "WARNING: Ignoring invalid distribution -ensorflow (c:\\users\\ayush\\appdata\\roaming\\python\\python39\\site-packages)\n",
      "WARNING: Ignoring invalid distribution -ensorflow (c:\\users\\ayush\\appdata\\roaming\\python\\python39\\site-packages)\n",
      "WARNING: Ignoring invalid distribution -ensorflow (c:\\users\\ayush\\appdata\\roaming\\python\\python39\\site-packages)\n"
     ]
    },
    {
     "name": "stdout",
     "output_type": "stream",
     "text": [
      "Requirement already satisfied: roboflow in c:\\users\\ayush\\appdata\\local\\programs\\python\\python39\\lib\\site-packages (1.1.7)\n",
      "Requirement already satisfied: certifi==2022.12.7 in c:\\users\\ayush\\appdata\\local\\programs\\python\\python39\\lib\\site-packages (from roboflow) (2022.12.7)\n",
      "Requirement already satisfied: chardet==4.0.0 in c:\\users\\ayush\\appdata\\local\\programs\\python\\python39\\lib\\site-packages (from roboflow) (4.0.0)\n",
      "Requirement already satisfied: cycler==0.10.0 in c:\\users\\ayush\\appdata\\local\\programs\\python\\python39\\lib\\site-packages (from roboflow) (0.10.0)\n",
      "Requirement already satisfied: idna==2.10 in c:\\users\\ayush\\appdata\\local\\programs\\python\\python39\\lib\\site-packages (from roboflow) (2.10)\n",
      "Requirement already satisfied: kiwisolver>=1.3.1 in c:\\users\\ayush\\appdata\\local\\programs\\python\\python39\\lib\\site-packages (from roboflow) (1.4.5)\n",
      "Requirement already satisfied: matplotlib in c:\\users\\ayush\\appdata\\local\\programs\\python\\python39\\lib\\site-packages (from roboflow) (3.8.0)\n",
      "Requirement already satisfied: numpy>=1.18.5 in c:\\users\\ayush\\appdata\\local\\programs\\python\\python39\\lib\\site-packages (from roboflow) (1.23.5)\n",
      "Requirement already satisfied: opencv-python-headless==4.8.0.74 in c:\\users\\ayush\\appdata\\local\\programs\\python\\python39\\lib\\site-packages (from roboflow) (4.8.0.74)\n",
      "Requirement already satisfied: Pillow>=7.1.2 in c:\\users\\ayush\\appdata\\local\\programs\\python\\python39\\lib\\site-packages (from roboflow) (9.5.0)\n",
      "Requirement already satisfied: pyparsing==2.4.7 in c:\\users\\ayush\\appdata\\local\\programs\\python\\python39\\lib\\site-packages (from roboflow) (2.4.7)\n",
      "Requirement already satisfied: python-dateutil in c:\\users\\ayush\\appdata\\roaming\\python\\python39\\site-packages (from roboflow) (2.8.2)\n",
      "Requirement already satisfied: python-dotenv in c:\\users\\ayush\\appdata\\local\\programs\\python\\python39\\lib\\site-packages (from roboflow) (1.0.0)\n",
      "Requirement already satisfied: requests in c:\\users\\ayush\\appdata\\local\\programs\\python\\python39\\lib\\site-packages (from roboflow) (2.31.0)\n",
      "Requirement already satisfied: six in c:\\users\\ayush\\appdata\\roaming\\python\\python39\\site-packages (from roboflow) (1.16.0)\n",
      "Requirement already satisfied: supervision in c:\\users\\ayush\\appdata\\local\\programs\\python\\python39\\lib\\site-packages (from roboflow) (0.15.0)\n",
      "Requirement already satisfied: urllib3>=1.26.6 in c:\\users\\ayush\\appdata\\local\\programs\\python\\python39\\lib\\site-packages (from roboflow) (1.26.16)\n",
      "Requirement already satisfied: tqdm>=4.41.0 in c:\\users\\ayush\\appdata\\local\\programs\\python\\python39\\lib\\site-packages (from roboflow) (4.66.1)\n",
      "Requirement already satisfied: PyYAML>=5.3.1 in c:\\users\\ayush\\appdata\\local\\programs\\python\\python39\\lib\\site-packages (from roboflow) (6.0.1)\n",
      "Requirement already satisfied: requests-toolbelt in c:\\users\\ayush\\appdata\\roaming\\python\\python39\\site-packages (from roboflow) (1.0.0)\n",
      "Requirement already satisfied: colorama in c:\\users\\ayush\\appdata\\roaming\\python\\python39\\site-packages (from tqdm>=4.41.0->roboflow) (0.4.6)\n",
      "Requirement already satisfied: contourpy>=1.0.1 in c:\\users\\ayush\\appdata\\local\\programs\\python\\python39\\lib\\site-packages (from matplotlib->roboflow) (1.1.1)\n",
      "Requirement already satisfied: fonttools>=4.22.0 in c:\\users\\ayush\\appdata\\local\\programs\\python\\python39\\lib\\site-packages (from matplotlib->roboflow) (4.43.0)\n",
      "Requirement already satisfied: packaging>=20.0 in c:\\users\\ayush\\appdata\\local\\programs\\python\\python39\\lib\\site-packages (from matplotlib->roboflow) (23.1)\n",
      "Requirement already satisfied: importlib-resources>=3.2.0 in c:\\users\\ayush\\appdata\\local\\programs\\python\\python39\\lib\\site-packages (from matplotlib->roboflow) (6.1.0)\n",
      "Requirement already satisfied: charset-normalizer<4,>=2 in c:\\users\\ayush\\appdata\\local\\programs\\python\\python39\\lib\\site-packages (from requests->roboflow) (3.2.0)\n",
      "Requirement already satisfied: scipy<2.0.0,>=1.9.0 in c:\\users\\ayush\\appdata\\roaming\\python\\python39\\site-packages (from supervision->roboflow) (1.11.3)\n",
      "Requirement already satisfied: zipp>=3.1.0 in c:\\users\\ayush\\appdata\\roaming\\python\\python39\\site-packages (from importlib-resources>=3.2.0->matplotlib->roboflow) (3.17.0)\n",
      "loading Roboflow workspace...\n",
      "loading Roboflow project...\n",
      "Dependency ultralytics==8.0.134 is required but found version=8.0.20, to fix: `pip install ultralytics==8.0.134`\n"
     ]
    },
    {
     "name": "stderr",
     "output_type": "stream",
     "text": [
      "Downloading Dataset Version Zip in Eyes-Detection-1 to yolov8:: 100%|██████████| 1499/1499 [00:03<00:00, 480.02it/s]"
     ]
    },
    {
     "name": "stdout",
     "output_type": "stream",
     "text": [
      "\n"
     ]
    },
    {
     "name": "stderr",
     "output_type": "stream",
     "text": [
      "\n",
      "Extracting Dataset Version Zip to Eyes-Detection-1 in yolov8:: 100%|██████████| 104/104 [00:00<00:00, 752.96it/s]\n"
     ]
    }
   ],
   "source": [
    "!mkdir {HOME}/datasets\n",
    "%cd {HOME}/datasets\n",
    "\n",
    "!pip install roboflow\n",
    "\n",
    "from roboflow import Roboflow\n",
    "rf = Roboflow(api_key=\"PRsUQ8s5DPMN9MS0SHVk\")\n",
    "project = rf.workspace(\"ayush-ranjeet-singh-mkhne\").project(\"eyes-detection-0ewk3\")\n",
    "dataset = project.version(1).download(\"yolov8\")\n",
    "\n"
   ]
  },
  {
   "cell_type": "code",
   "execution_count": 9,
   "metadata": {},
   "outputs": [
    {
     "name": "stdout",
     "output_type": "stream",
     "text": [
      "c:\\Users\\ayush\\Downloads\\clothes\\eyes expression\n"
     ]
    },
    {
     "name": "stderr",
     "output_type": "stream",
     "text": [
      "Traceback (most recent call last):\n",
      "  File \"c:\\users\\ayush\\appdata\\local\\programs\\python\\python39\\lib\\runpy.py\", line 197, in _run_module_as_main\n",
      "    return _run_code(code, main_globals, None,\n",
      "  File \"c:\\users\\ayush\\appdata\\local\\programs\\python\\python39\\lib\\runpy.py\", line 87, in _run_code\n",
      "    exec(code, run_globals)\n",
      "  File \"C:\\Users\\ayush\\AppData\\Local\\Programs\\Python\\Python39\\Scripts\\yolo.exe\\__main__.py\", line 7, in <module>\n",
      "    sys.exit(entrypoint())\n",
      "  File \"c:\\users\\ayush\\appdata\\local\\programs\\python\\python39\\lib\\site-packages\\ultralytics\\yolo\\cfg\\__init__.py\", line 212, in entrypoint\n",
      "    raise argument_error(a)\n",
      "SyntaxError: 'expression\\Eyes-Detection-1/data.yaml' is not a valid YOLO argument.\n",
      "\n",
      "    YOLOv8 'yolo' CLI commands use the following syntax:\n",
      "\n",
      "        yolo TASK MODE ARGS\n",
      "\n",
      "        Where   TASK (optional) is one of [detect, segment, classify]\n",
      "                MODE (required) is one of [train, val, predict, export]\n",
      "                ARGS (optional) are any number of custom 'arg=value' pairs like 'imgsz=320' that override defaults.\n",
      "                    See all ARGS at https://docs.ultralytics.com/cfg or with 'yolo cfg'\n",
      "\n",
      "    1. Train a detection model for 10 epochs with an initial learning_rate of 0.01\n",
      "        yolo detect train data=coco128.yaml model=yolov8n.pt epochs=10 lr0=0.01\n",
      "\n",
      "    2. Predict a YouTube video using a pretrained segmentation model at image size 320:\n",
      "        yolo segment predict model=yolov8n-seg.pt source='https://youtu.be/Zgi9g1ksQHc' imgsz=320\n",
      "\n",
      "    3. Val a pretrained detection model at batch-size 1 and image size 640:\n",
      "        yolo detect val model=yolov8n.pt data=coco128.yaml batch=1 imgsz=640\n",
      "\n",
      "    4. Export a YOLOv8n classification model to ONNX format at image size 224 by 128 (no TASK required)\n",
      "        yolo export model=yolov8n-cls.pt format=onnx imgsz=224,128\n",
      "\n",
      "    5. Run special commands:\n",
      "        yolo help\n",
      "        yolo checks\n",
      "        yolo version\n",
      "        yolo settings\n",
      "        yolo copy-cfg\n",
      "        yolo cfg\n",
      "\n",
      "    Docs: https://docs.ultralytics.com/cli\n",
      "    Community: https://community.ultralytics.com\n",
      "    GitHub: https://github.com/ultralytics/ultralytics\n",
      "    \n",
      "Sentry is attempting to send 2 pending error messages\n",
      "Waiting up to 2 seconds\n",
      "Press Ctrl-Break to quit\n"
     ]
    }
   ],
   "source": [
    "%cd {HOME}\n",
    "\n",
    "!yolo mode=train model=yolov8s.pt data={dataset.location}/data.yaml epochs=25 imgsz=640 plots=True\n"
   ]
  },
  {
   "cell_type": "code",
   "execution_count": null,
   "metadata": {},
   "outputs": [],
   "source": []
  }
 ],
 "metadata": {
  "kernelspec": {
   "display_name": "Python 3",
   "language": "python",
   "name": "python3"
  },
  "language_info": {
   "codemirror_mode": {
    "name": "ipython",
    "version": 3
   },
   "file_extension": ".py",
   "mimetype": "text/x-python",
   "name": "python",
   "nbconvert_exporter": "python",
   "pygments_lexer": "ipython3",
   "version": "3.9.2rc1"
  }
 },
 "nbformat": 4,
 "nbformat_minor": 2
}
